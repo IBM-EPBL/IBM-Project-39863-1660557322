{
 "cells": [
  {
   "cell_type": "markdown",
   "id": "1c7e171f",
   "metadata": {},
   "source": [
    "# 1. Importing Necessary Modules"
   ]
  },
  {
   "cell_type": "code",
   "execution_count": 1,
   "id": "d6c8207c",
   "metadata": {
    "scrolled": true
   },
   "outputs": [],
   "source": [
    "# importing necessary modules for this notebook\n",
    "\n",
    "import pandas as pd\n",
    "from sklearn.preprocessing import scale #for scaling\n",
    "from sklearn.model_selection import train_test_split # for train and test data split\n",
    "from sklearn.linear_model import LogisticRegression # for Logistic Regression Classification model\n",
    "from sklearn.metrics import accuracy_score,classification_report,confusion_matrix,roc_auc_score,roc_curve # for evaluation of classification models\n",
    "from sklearn.tree import DecisionTreeClassifier # for Decision Tree Classifier model\n",
    "from sklearn.ensemble import RandomForestClassifier # for Random Forest Classifier model\n",
    "from sklearn.tree import DecisionTreeClassifier # for Decision Tree Classifier model\n",
    "from sklearn.neighbors import KNeighborsClassifier # for K Neighbor Classifier model\n",
    "from sklearn.naive_bayes import GaussianNB # for Naive Bayes Classification model\n",
    "from sklearn.svm import SVC # for svm Classification model\n",
    "from sklearn.model_selection import GridSearchCV # for hyper parameter tuning using grid search method\n",
    "from imblearn.over_sampling import SMOTE # for data balancing using smote method"
   ]
  },
  {
   "cell_type": "markdown",
   "id": "4a624a94",
   "metadata": {},
   "source": [
    "# 2. Loading The Preprocessed Data"
   ]
  },
  {
   "cell_type": "code",
   "execution_count": 2,
   "id": "a5a34eee",
   "metadata": {},
   "outputs": [
    {
     "data": {
      "text/plain": [
       "(583, 11)"
      ]
     },
     "execution_count": 2,
     "metadata": {},
     "output_type": "execute_result"
    }
   ],
   "source": [
    "# Loading the preprocessed dataset \"Preprocessed_Data1\"\n",
    "\n",
    "data=pd.read_csv(\"Preprocessed_Data1.csv\")\n",
    "\n",
    "# Dataset Features\n",
    "\n",
    "data.shape"
   ]
  },
  {
   "cell_type": "code",
   "execution_count": 3,
   "id": "3e2c393a",
   "metadata": {},
   "outputs": [
    {
     "data": {
      "text/html": [
       "<div>\n",
       "<style scoped>\n",
       "    .dataframe tbody tr th:only-of-type {\n",
       "        vertical-align: middle;\n",
       "    }\n",
       "\n",
       "    .dataframe tbody tr th {\n",
       "        vertical-align: top;\n",
       "    }\n",
       "\n",
       "    .dataframe thead th {\n",
       "        text-align: right;\n",
       "    }\n",
       "</style>\n",
       "<table border=\"1\" class=\"dataframe\">\n",
       "  <thead>\n",
       "    <tr style=\"text-align: right;\">\n",
       "      <th></th>\n",
       "      <th>Age</th>\n",
       "      <th>Gender</th>\n",
       "      <th>Total_Bilirubin</th>\n",
       "      <th>Direct_Bilirubin</th>\n",
       "      <th>Alkaline_Phosphotase</th>\n",
       "      <th>Alamine_Aminotransferase</th>\n",
       "      <th>Aspartate_Aminotransferase</th>\n",
       "      <th>Total_Protiens</th>\n",
       "      <th>Albumin</th>\n",
       "      <th>Albumin_and_Globulin_Ratio</th>\n",
       "      <th>Dataset</th>\n",
       "    </tr>\n",
       "  </thead>\n",
       "  <tbody>\n",
       "    <tr>\n",
       "      <th>0</th>\n",
       "      <td>65</td>\n",
       "      <td>0</td>\n",
       "      <td>0.7</td>\n",
       "      <td>0.1</td>\n",
       "      <td>187</td>\n",
       "      <td>16</td>\n",
       "      <td>18</td>\n",
       "      <td>6.8</td>\n",
       "      <td>3.3</td>\n",
       "      <td>0.90</td>\n",
       "      <td>1</td>\n",
       "    </tr>\n",
       "    <tr>\n",
       "      <th>1</th>\n",
       "      <td>62</td>\n",
       "      <td>1</td>\n",
       "      <td>10.9</td>\n",
       "      <td>5.5</td>\n",
       "      <td>699</td>\n",
       "      <td>64</td>\n",
       "      <td>100</td>\n",
       "      <td>7.5</td>\n",
       "      <td>3.2</td>\n",
       "      <td>0.74</td>\n",
       "      <td>1</td>\n",
       "    </tr>\n",
       "    <tr>\n",
       "      <th>2</th>\n",
       "      <td>62</td>\n",
       "      <td>1</td>\n",
       "      <td>7.3</td>\n",
       "      <td>4.1</td>\n",
       "      <td>490</td>\n",
       "      <td>60</td>\n",
       "      <td>68</td>\n",
       "      <td>7.0</td>\n",
       "      <td>3.3</td>\n",
       "      <td>0.89</td>\n",
       "      <td>1</td>\n",
       "    </tr>\n",
       "    <tr>\n",
       "      <th>3</th>\n",
       "      <td>58</td>\n",
       "      <td>1</td>\n",
       "      <td>1.0</td>\n",
       "      <td>0.4</td>\n",
       "      <td>182</td>\n",
       "      <td>14</td>\n",
       "      <td>20</td>\n",
       "      <td>6.8</td>\n",
       "      <td>3.4</td>\n",
       "      <td>1.00</td>\n",
       "      <td>1</td>\n",
       "    </tr>\n",
       "    <tr>\n",
       "      <th>4</th>\n",
       "      <td>72</td>\n",
       "      <td>1</td>\n",
       "      <td>3.9</td>\n",
       "      <td>2.0</td>\n",
       "      <td>195</td>\n",
       "      <td>27</td>\n",
       "      <td>59</td>\n",
       "      <td>7.3</td>\n",
       "      <td>2.4</td>\n",
       "      <td>0.40</td>\n",
       "      <td>1</td>\n",
       "    </tr>\n",
       "  </tbody>\n",
       "</table>\n",
       "</div>"
      ],
      "text/plain": [
       "   Age  Gender  Total_Bilirubin  Direct_Bilirubin  Alkaline_Phosphotase  \\\n",
       "0   65       0              0.7               0.1                   187   \n",
       "1   62       1             10.9               5.5                   699   \n",
       "2   62       1              7.3               4.1                   490   \n",
       "3   58       1              1.0               0.4                   182   \n",
       "4   72       1              3.9               2.0                   195   \n",
       "\n",
       "   Alamine_Aminotransferase  Aspartate_Aminotransferase  Total_Protiens  \\\n",
       "0                        16                          18             6.8   \n",
       "1                        64                         100             7.5   \n",
       "2                        60                          68             7.0   \n",
       "3                        14                          20             6.8   \n",
       "4                        27                          59             7.3   \n",
       "\n",
       "   Albumin  Albumin_and_Globulin_Ratio  Dataset  \n",
       "0      3.3                        0.90        1  \n",
       "1      3.2                        0.74        1  \n",
       "2      3.3                        0.89        1  \n",
       "3      3.4                        1.00        1  \n",
       "4      2.4                        0.40        1  "
      ]
     },
     "execution_count": 3,
     "metadata": {},
     "output_type": "execute_result"
    }
   ],
   "source": [
    "data.head()"
   ]
  },
  {
   "cell_type": "markdown",
   "id": "713e021f",
   "metadata": {},
   "source": [
    "# 3. X and y split"
   ]
  },
  {
   "cell_type": "code",
   "execution_count": 4,
   "id": "6f0b83db",
   "metadata": {},
   "outputs": [
    {
     "data": {
      "text/plain": [
       "0    1\n",
       "1    1\n",
       "2    1\n",
       "3    1\n",
       "4    1\n",
       "Name: Dataset, dtype: int64"
      ]
     },
     "execution_count": 4,
     "metadata": {},
     "output_type": "execute_result"
    }
   ],
   "source": [
    "# splitting the data into independent and target variables X and y repectively\n",
    "\n",
    "# storing Target column \"Dataset\" in y\n",
    "y=data['Dataset']\n",
    "y.head()"
   ]
  },
  {
   "cell_type": "code",
   "execution_count": 5,
   "id": "e68b121b",
   "metadata": {},
   "outputs": [
    {
     "data": {
      "text/html": [
       "<div>\n",
       "<style scoped>\n",
       "    .dataframe tbody tr th:only-of-type {\n",
       "        vertical-align: middle;\n",
       "    }\n",
       "\n",
       "    .dataframe tbody tr th {\n",
       "        vertical-align: top;\n",
       "    }\n",
       "\n",
       "    .dataframe thead th {\n",
       "        text-align: right;\n",
       "    }\n",
       "</style>\n",
       "<table border=\"1\" class=\"dataframe\">\n",
       "  <thead>\n",
       "    <tr style=\"text-align: right;\">\n",
       "      <th></th>\n",
       "      <th>Age</th>\n",
       "      <th>Gender</th>\n",
       "      <th>Total_Bilirubin</th>\n",
       "      <th>Direct_Bilirubin</th>\n",
       "      <th>Alkaline_Phosphotase</th>\n",
       "      <th>Alamine_Aminotransferase</th>\n",
       "      <th>Aspartate_Aminotransferase</th>\n",
       "      <th>Total_Protiens</th>\n",
       "      <th>Albumin</th>\n",
       "      <th>Albumin_and_Globulin_Ratio</th>\n",
       "    </tr>\n",
       "  </thead>\n",
       "  <tbody>\n",
       "    <tr>\n",
       "      <th>0</th>\n",
       "      <td>65</td>\n",
       "      <td>0</td>\n",
       "      <td>0.7</td>\n",
       "      <td>0.1</td>\n",
       "      <td>187</td>\n",
       "      <td>16</td>\n",
       "      <td>18</td>\n",
       "      <td>6.8</td>\n",
       "      <td>3.3</td>\n",
       "      <td>0.90</td>\n",
       "    </tr>\n",
       "    <tr>\n",
       "      <th>1</th>\n",
       "      <td>62</td>\n",
       "      <td>1</td>\n",
       "      <td>10.9</td>\n",
       "      <td>5.5</td>\n",
       "      <td>699</td>\n",
       "      <td>64</td>\n",
       "      <td>100</td>\n",
       "      <td>7.5</td>\n",
       "      <td>3.2</td>\n",
       "      <td>0.74</td>\n",
       "    </tr>\n",
       "    <tr>\n",
       "      <th>2</th>\n",
       "      <td>62</td>\n",
       "      <td>1</td>\n",
       "      <td>7.3</td>\n",
       "      <td>4.1</td>\n",
       "      <td>490</td>\n",
       "      <td>60</td>\n",
       "      <td>68</td>\n",
       "      <td>7.0</td>\n",
       "      <td>3.3</td>\n",
       "      <td>0.89</td>\n",
       "    </tr>\n",
       "    <tr>\n",
       "      <th>3</th>\n",
       "      <td>58</td>\n",
       "      <td>1</td>\n",
       "      <td>1.0</td>\n",
       "      <td>0.4</td>\n",
       "      <td>182</td>\n",
       "      <td>14</td>\n",
       "      <td>20</td>\n",
       "      <td>6.8</td>\n",
       "      <td>3.4</td>\n",
       "      <td>1.00</td>\n",
       "    </tr>\n",
       "    <tr>\n",
       "      <th>4</th>\n",
       "      <td>72</td>\n",
       "      <td>1</td>\n",
       "      <td>3.9</td>\n",
       "      <td>2.0</td>\n",
       "      <td>195</td>\n",
       "      <td>27</td>\n",
       "      <td>59</td>\n",
       "      <td>7.3</td>\n",
       "      <td>2.4</td>\n",
       "      <td>0.40</td>\n",
       "    </tr>\n",
       "  </tbody>\n",
       "</table>\n",
       "</div>"
      ],
      "text/plain": [
       "   Age  Gender  Total_Bilirubin  Direct_Bilirubin  Alkaline_Phosphotase  \\\n",
       "0   65       0              0.7               0.1                   187   \n",
       "1   62       1             10.9               5.5                   699   \n",
       "2   62       1              7.3               4.1                   490   \n",
       "3   58       1              1.0               0.4                   182   \n",
       "4   72       1              3.9               2.0                   195   \n",
       "\n",
       "   Alamine_Aminotransferase  Aspartate_Aminotransferase  Total_Protiens  \\\n",
       "0                        16                          18             6.8   \n",
       "1                        64                         100             7.5   \n",
       "2                        60                          68             7.0   \n",
       "3                        14                          20             6.8   \n",
       "4                        27                          59             7.3   \n",
       "\n",
       "   Albumin  Albumin_and_Globulin_Ratio  \n",
       "0      3.3                        0.90  \n",
       "1      3.2                        0.74  \n",
       "2      3.3                        0.89  \n",
       "3      3.4                        1.00  \n",
       "4      2.4                        0.40  "
      ]
     },
     "execution_count": 5,
     "metadata": {},
     "output_type": "execute_result"
    }
   ],
   "source": [
    "# storing independent columns in X\n",
    "X=data.drop(columns=['Dataset'],axis=1)\n",
    "X.head()"
   ]
  },
  {
   "cell_type": "markdown",
   "id": "2239f301",
   "metadata": {},
   "source": [
    "# 4. Scaling the X values"
   ]
  },
  {
   "cell_type": "code",
   "execution_count": 6,
   "id": "57936b37",
   "metadata": {},
   "outputs": [
    {
     "data": {
      "text/html": [
       "<div>\n",
       "<style scoped>\n",
       "    .dataframe tbody tr th:only-of-type {\n",
       "        vertical-align: middle;\n",
       "    }\n",
       "\n",
       "    .dataframe tbody tr th {\n",
       "        vertical-align: top;\n",
       "    }\n",
       "\n",
       "    .dataframe thead th {\n",
       "        text-align: right;\n",
       "    }\n",
       "</style>\n",
       "<table border=\"1\" class=\"dataframe\">\n",
       "  <thead>\n",
       "    <tr style=\"text-align: right;\">\n",
       "      <th></th>\n",
       "      <th>Age</th>\n",
       "      <th>Gender</th>\n",
       "      <th>Total_Bilirubin</th>\n",
       "      <th>Direct_Bilirubin</th>\n",
       "      <th>Alkaline_Phosphotase</th>\n",
       "      <th>Alamine_Aminotransferase</th>\n",
       "      <th>Aspartate_Aminotransferase</th>\n",
       "      <th>Total_Protiens</th>\n",
       "      <th>Albumin</th>\n",
       "      <th>Albumin_and_Globulin_Ratio</th>\n",
       "    </tr>\n",
       "  </thead>\n",
       "  <tbody>\n",
       "    <tr>\n",
       "      <th>0</th>\n",
       "      <td>0.709302</td>\n",
       "      <td>0.0</td>\n",
       "      <td>0.004021</td>\n",
       "      <td>0.000000</td>\n",
       "      <td>0.060576</td>\n",
       "      <td>0.003015</td>\n",
       "      <td>0.001626</td>\n",
       "      <td>0.594203</td>\n",
       "      <td>0.521739</td>\n",
       "      <td>0.240</td>\n",
       "    </tr>\n",
       "    <tr>\n",
       "      <th>1</th>\n",
       "      <td>0.674419</td>\n",
       "      <td>1.0</td>\n",
       "      <td>0.140751</td>\n",
       "      <td>0.275510</td>\n",
       "      <td>0.310699</td>\n",
       "      <td>0.027136</td>\n",
       "      <td>0.018296</td>\n",
       "      <td>0.695652</td>\n",
       "      <td>0.500000</td>\n",
       "      <td>0.176</td>\n",
       "    </tr>\n",
       "    <tr>\n",
       "      <th>2</th>\n",
       "      <td>0.674419</td>\n",
       "      <td>1.0</td>\n",
       "      <td>0.092493</td>\n",
       "      <td>0.204082</td>\n",
       "      <td>0.208598</td>\n",
       "      <td>0.025126</td>\n",
       "      <td>0.011791</td>\n",
       "      <td>0.623188</td>\n",
       "      <td>0.521739</td>\n",
       "      <td>0.236</td>\n",
       "    </tr>\n",
       "    <tr>\n",
       "      <th>3</th>\n",
       "      <td>0.627907</td>\n",
       "      <td>1.0</td>\n",
       "      <td>0.008043</td>\n",
       "      <td>0.015306</td>\n",
       "      <td>0.058134</td>\n",
       "      <td>0.002010</td>\n",
       "      <td>0.002033</td>\n",
       "      <td>0.594203</td>\n",
       "      <td>0.543478</td>\n",
       "      <td>0.280</td>\n",
       "    </tr>\n",
       "    <tr>\n",
       "      <th>4</th>\n",
       "      <td>0.790698</td>\n",
       "      <td>1.0</td>\n",
       "      <td>0.046917</td>\n",
       "      <td>0.096939</td>\n",
       "      <td>0.064485</td>\n",
       "      <td>0.008543</td>\n",
       "      <td>0.009961</td>\n",
       "      <td>0.666667</td>\n",
       "      <td>0.326087</td>\n",
       "      <td>0.040</td>\n",
       "    </tr>\n",
       "  </tbody>\n",
       "</table>\n",
       "</div>"
      ],
      "text/plain": [
       "        Age  Gender  Total_Bilirubin  Direct_Bilirubin  Alkaline_Phosphotase  \\\n",
       "0  0.709302     0.0         0.004021          0.000000              0.060576   \n",
       "1  0.674419     1.0         0.140751          0.275510              0.310699   \n",
       "2  0.674419     1.0         0.092493          0.204082              0.208598   \n",
       "3  0.627907     1.0         0.008043          0.015306              0.058134   \n",
       "4  0.790698     1.0         0.046917          0.096939              0.064485   \n",
       "\n",
       "   Alamine_Aminotransferase  Aspartate_Aminotransferase  Total_Protiens  \\\n",
       "0                  0.003015                    0.001626        0.594203   \n",
       "1                  0.027136                    0.018296        0.695652   \n",
       "2                  0.025126                    0.011791        0.623188   \n",
       "3                  0.002010                    0.002033        0.594203   \n",
       "4                  0.008543                    0.009961        0.666667   \n",
       "\n",
       "    Albumin  Albumin_and_Globulin_Ratio  \n",
       "0  0.521739                       0.240  \n",
       "1  0.500000                       0.176  \n",
       "2  0.521739                       0.236  \n",
       "3  0.543478                       0.280  \n",
       "4  0.326087                       0.040  "
      ]
     },
     "execution_count": 6,
     "metadata": {},
     "output_type": "execute_result"
    }
   ],
   "source": [
    "# scaling the X values using normalization technique\n",
    "\n",
    "from sklearn.preprocessing import MinMaxScaler\n",
    "scaler=MinMaxScaler().fit(X)\n",
    "X_scaled=pd.DataFrame(data=scaler.transform(X), columns=X.columns)\n",
    "\n",
    "X_scaled.head()"
   ]
  },
  {
   "cell_type": "markdown",
   "id": "916891aa",
   "metadata": {},
   "source": [
    "# 5. Test and Train Split"
   ]
  },
  {
   "cell_type": "code",
   "execution_count": 7,
   "id": "8450cdbb",
   "metadata": {},
   "outputs": [],
   "source": [
    "# splitting the data into train and test dataset into 7:3 ratio\n",
    "\n",
    "X_train,X_test,y_train,y_test=train_test_split(X_scaled,y,test_size=0.3,random_state=0)"
   ]
  },
  {
   "cell_type": "code",
   "execution_count": 8,
   "id": "895fc782",
   "metadata": {},
   "outputs": [
    {
     "data": {
      "text/html": [
       "<div>\n",
       "<style scoped>\n",
       "    .dataframe tbody tr th:only-of-type {\n",
       "        vertical-align: middle;\n",
       "    }\n",
       "\n",
       "    .dataframe tbody tr th {\n",
       "        vertical-align: top;\n",
       "    }\n",
       "\n",
       "    .dataframe thead th {\n",
       "        text-align: right;\n",
       "    }\n",
       "</style>\n",
       "<table border=\"1\" class=\"dataframe\">\n",
       "  <thead>\n",
       "    <tr style=\"text-align: right;\">\n",
       "      <th></th>\n",
       "      <th>Age</th>\n",
       "      <th>Gender</th>\n",
       "      <th>Total_Bilirubin</th>\n",
       "      <th>Direct_Bilirubin</th>\n",
       "      <th>Alkaline_Phosphotase</th>\n",
       "      <th>Alamine_Aminotransferase</th>\n",
       "      <th>Aspartate_Aminotransferase</th>\n",
       "      <th>Total_Protiens</th>\n",
       "      <th>Albumin</th>\n",
       "      <th>Albumin_and_Globulin_Ratio</th>\n",
       "    </tr>\n",
       "  </thead>\n",
       "  <tbody>\n",
       "    <tr>\n",
       "      <th>271</th>\n",
       "      <td>0.000000</td>\n",
       "      <td>1.0</td>\n",
       "      <td>0.005362</td>\n",
       "      <td>0.005102</td>\n",
       "      <td>0.193942</td>\n",
       "      <td>0.071357</td>\n",
       "      <td>0.044928</td>\n",
       "      <td>0.550725</td>\n",
       "      <td>0.500000</td>\n",
       "      <td>0.240</td>\n",
       "    </tr>\n",
       "    <tr>\n",
       "      <th>318</th>\n",
       "      <td>0.395349</td>\n",
       "      <td>1.0</td>\n",
       "      <td>0.044236</td>\n",
       "      <td>0.107143</td>\n",
       "      <td>0.074744</td>\n",
       "      <td>0.084925</td>\n",
       "      <td>0.045131</td>\n",
       "      <td>0.739130</td>\n",
       "      <td>0.782609</td>\n",
       "      <td>0.400</td>\n",
       "    </tr>\n",
       "    <tr>\n",
       "      <th>552</th>\n",
       "      <td>0.476744</td>\n",
       "      <td>1.0</td>\n",
       "      <td>0.002681</td>\n",
       "      <td>0.000000</td>\n",
       "      <td>0.064973</td>\n",
       "      <td>0.009548</td>\n",
       "      <td>0.004066</td>\n",
       "      <td>0.449275</td>\n",
       "      <td>0.434783</td>\n",
       "      <td>0.280</td>\n",
       "    </tr>\n",
       "    <tr>\n",
       "      <th>579</th>\n",
       "      <td>0.418605</td>\n",
       "      <td>1.0</td>\n",
       "      <td>0.002681</td>\n",
       "      <td>0.000000</td>\n",
       "      <td>0.017098</td>\n",
       "      <td>0.012563</td>\n",
       "      <td>0.004269</td>\n",
       "      <td>0.478261</td>\n",
       "      <td>0.500000</td>\n",
       "      <td>0.320</td>\n",
       "    </tr>\n",
       "    <tr>\n",
       "      <th>196</th>\n",
       "      <td>0.651163</td>\n",
       "      <td>1.0</td>\n",
       "      <td>0.021448</td>\n",
       "      <td>0.051020</td>\n",
       "      <td>0.293600</td>\n",
       "      <td>0.021106</td>\n",
       "      <td>0.019110</td>\n",
       "      <td>0.478261</td>\n",
       "      <td>0.260870</td>\n",
       "      <td>0.092</td>\n",
       "    </tr>\n",
       "  </tbody>\n",
       "</table>\n",
       "</div>"
      ],
      "text/plain": [
       "          Age  Gender  Total_Bilirubin  Direct_Bilirubin  \\\n",
       "271  0.000000     1.0         0.005362          0.005102   \n",
       "318  0.395349     1.0         0.044236          0.107143   \n",
       "552  0.476744     1.0         0.002681          0.000000   \n",
       "579  0.418605     1.0         0.002681          0.000000   \n",
       "196  0.651163     1.0         0.021448          0.051020   \n",
       "\n",
       "     Alkaline_Phosphotase  Alamine_Aminotransferase  \\\n",
       "271              0.193942                  0.071357   \n",
       "318              0.074744                  0.084925   \n",
       "552              0.064973                  0.009548   \n",
       "579              0.017098                  0.012563   \n",
       "196              0.293600                  0.021106   \n",
       "\n",
       "     Aspartate_Aminotransferase  Total_Protiens   Albumin  \\\n",
       "271                    0.044928        0.550725  0.500000   \n",
       "318                    0.045131        0.739130  0.782609   \n",
       "552                    0.004066        0.449275  0.434783   \n",
       "579                    0.004269        0.478261  0.500000   \n",
       "196                    0.019110        0.478261  0.260870   \n",
       "\n",
       "     Albumin_and_Globulin_Ratio  \n",
       "271                       0.240  \n",
       "318                       0.400  \n",
       "552                       0.280  \n",
       "579                       0.320  \n",
       "196                       0.092  "
      ]
     },
     "execution_count": 8,
     "metadata": {},
     "output_type": "execute_result"
    }
   ],
   "source": [
    "X_train.head()"
   ]
  },
  {
   "cell_type": "code",
   "execution_count": 9,
   "id": "fd2f91ef",
   "metadata": {},
   "outputs": [
    {
     "data": {
      "text/html": [
       "<div>\n",
       "<style scoped>\n",
       "    .dataframe tbody tr th:only-of-type {\n",
       "        vertical-align: middle;\n",
       "    }\n",
       "\n",
       "    .dataframe tbody tr th {\n",
       "        vertical-align: top;\n",
       "    }\n",
       "\n",
       "    .dataframe thead th {\n",
       "        text-align: right;\n",
       "    }\n",
       "</style>\n",
       "<table border=\"1\" class=\"dataframe\">\n",
       "  <thead>\n",
       "    <tr style=\"text-align: right;\">\n",
       "      <th></th>\n",
       "      <th>Age</th>\n",
       "      <th>Gender</th>\n",
       "      <th>Total_Bilirubin</th>\n",
       "      <th>Direct_Bilirubin</th>\n",
       "      <th>Alkaline_Phosphotase</th>\n",
       "      <th>Alamine_Aminotransferase</th>\n",
       "      <th>Aspartate_Aminotransferase</th>\n",
       "      <th>Total_Protiens</th>\n",
       "      <th>Albumin</th>\n",
       "      <th>Albumin_and_Globulin_Ratio</th>\n",
       "    </tr>\n",
       "  </thead>\n",
       "  <tbody>\n",
       "    <tr>\n",
       "      <th>246</th>\n",
       "      <td>0.593023</td>\n",
       "      <td>1.0</td>\n",
       "      <td>0.018767</td>\n",
       "      <td>0.454082</td>\n",
       "      <td>0.102101</td>\n",
       "      <td>0.006030</td>\n",
       "      <td>0.014027</td>\n",
       "      <td>0.492754</td>\n",
       "      <td>0.391304</td>\n",
       "      <td>0.160</td>\n",
       "    </tr>\n",
       "    <tr>\n",
       "      <th>92</th>\n",
       "      <td>0.651163</td>\n",
       "      <td>1.0</td>\n",
       "      <td>0.109920</td>\n",
       "      <td>0.198980</td>\n",
       "      <td>0.114802</td>\n",
       "      <td>0.202010</td>\n",
       "      <td>0.170766</td>\n",
       "      <td>0.681159</td>\n",
       "      <td>0.456522</td>\n",
       "      <td>0.120</td>\n",
       "    </tr>\n",
       "    <tr>\n",
       "      <th>386</th>\n",
       "      <td>0.395349</td>\n",
       "      <td>1.0</td>\n",
       "      <td>0.030831</td>\n",
       "      <td>0.066327</td>\n",
       "      <td>0.020518</td>\n",
       "      <td>0.007538</td>\n",
       "      <td>0.002236</td>\n",
       "      <td>0.695652</td>\n",
       "      <td>0.717391</td>\n",
       "      <td>0.360</td>\n",
       "    </tr>\n",
       "    <tr>\n",
       "      <th>186</th>\n",
       "      <td>0.651163</td>\n",
       "      <td>1.0</td>\n",
       "      <td>0.037534</td>\n",
       "      <td>0.086735</td>\n",
       "      <td>0.335613</td>\n",
       "      <td>0.034673</td>\n",
       "      <td>0.027445</td>\n",
       "      <td>0.739130</td>\n",
       "      <td>0.500000</td>\n",
       "      <td>0.156</td>\n",
       "    </tr>\n",
       "    <tr>\n",
       "      <th>389</th>\n",
       "      <td>0.790698</td>\n",
       "      <td>1.0</td>\n",
       "      <td>0.002681</td>\n",
       "      <td>0.000000</td>\n",
       "      <td>0.019052</td>\n",
       "      <td>0.010553</td>\n",
       "      <td>0.005082</td>\n",
       "      <td>0.521739</td>\n",
       "      <td>0.500000</td>\n",
       "      <td>0.280</td>\n",
       "    </tr>\n",
       "  </tbody>\n",
       "</table>\n",
       "</div>"
      ],
      "text/plain": [
       "          Age  Gender  Total_Bilirubin  Direct_Bilirubin  \\\n",
       "246  0.593023     1.0         0.018767          0.454082   \n",
       "92   0.651163     1.0         0.109920          0.198980   \n",
       "386  0.395349     1.0         0.030831          0.066327   \n",
       "186  0.651163     1.0         0.037534          0.086735   \n",
       "389  0.790698     1.0         0.002681          0.000000   \n",
       "\n",
       "     Alkaline_Phosphotase  Alamine_Aminotransferase  \\\n",
       "246              0.102101                  0.006030   \n",
       "92               0.114802                  0.202010   \n",
       "386              0.020518                  0.007538   \n",
       "186              0.335613                  0.034673   \n",
       "389              0.019052                  0.010553   \n",
       "\n",
       "     Aspartate_Aminotransferase  Total_Protiens   Albumin  \\\n",
       "246                    0.014027        0.492754  0.391304   \n",
       "92                     0.170766        0.681159  0.456522   \n",
       "386                    0.002236        0.695652  0.717391   \n",
       "186                    0.027445        0.739130  0.500000   \n",
       "389                    0.005082        0.521739  0.500000   \n",
       "\n",
       "     Albumin_and_Globulin_Ratio  \n",
       "246                       0.160  \n",
       "92                        0.120  \n",
       "386                       0.360  \n",
       "186                       0.156  \n",
       "389                       0.280  "
      ]
     },
     "execution_count": 9,
     "metadata": {},
     "output_type": "execute_result"
    }
   ],
   "source": [
    "X_test.head()"
   ]
  },
  {
   "cell_type": "code",
   "execution_count": 10,
   "id": "698d5758",
   "metadata": {},
   "outputs": [
    {
     "data": {
      "text/plain": [
       "271    2\n",
       "318    1\n",
       "552    1\n",
       "579    1\n",
       "196    1\n",
       "Name: Dataset, dtype: int64"
      ]
     },
     "execution_count": 10,
     "metadata": {},
     "output_type": "execute_result"
    }
   ],
   "source": [
    "y_train.head()"
   ]
  },
  {
   "cell_type": "code",
   "execution_count": 11,
   "id": "1a102e44",
   "metadata": {},
   "outputs": [
    {
     "data": {
      "text/plain": [
       "246    1\n",
       "92     1\n",
       "386    2\n",
       "186    1\n",
       "389    1\n",
       "Name: Dataset, dtype: int64"
      ]
     },
     "execution_count": 11,
     "metadata": {},
     "output_type": "execute_result"
    }
   ],
   "source": [
    "y_test.head()"
   ]
  },
  {
   "cell_type": "markdown",
   "id": "2a3bda9d",
   "metadata": {},
   "source": [
    "# 6. Balancing the data"
   ]
  },
  {
   "cell_type": "code",
   "execution_count": 12,
   "id": "c9dda017",
   "metadata": {},
   "outputs": [
    {
     "data": {
      "text/plain": [
       "1    294\n",
       "2    114\n",
       "Name: Dataset, dtype: int64"
      ]
     },
     "execution_count": 12,
     "metadata": {},
     "output_type": "execute_result"
    }
   ],
   "source": [
    "# Balncing the train data using smote method\n",
    "\n",
    "y_train.value_counts()\n"
   ]
  },
  {
   "cell_type": "code",
   "execution_count": 13,
   "id": "6ac3b89e",
   "metadata": {},
   "outputs": [
    {
     "data": {
      "text/plain": [
       "2    294\n",
       "1    294\n",
       "Name: Dataset, dtype: int64"
      ]
     },
     "execution_count": 13,
     "metadata": {},
     "output_type": "execute_result"
    }
   ],
   "source": [
    "smote=SMOTE()\n",
    "\n",
    "X_train_smote,y_train_smote=smote.fit_resample(X_train,y_train)\n",
    "\n",
    "y_train_smote.value_counts()"
   ]
  },
  {
   "cell_type": "markdown",
   "id": "6f1638f7",
   "metadata": {},
   "source": [
    "# 7. Training and Testing the model"
   ]
  },
  {
   "cell_type": "code",
   "execution_count": 14,
   "id": "dd91aa5b",
   "metadata": {},
   "outputs": [],
   "source": [
    "# The algorithms used in this model are\n",
    "\n",
    "#  1.logistic regression\n",
    "#  2.decision tree model\n",
    "#  3.Random forest model\n",
    "#  4.KNN\n",
    "#  5.Naive Bayes\n",
    "#  6.svm\n"
   ]
  },
  {
   "cell_type": "markdown",
   "id": "832eb056",
   "metadata": {},
   "source": [
    "# 7.1. Logistic Regression Algorithm "
   ]
  },
  {
   "cell_type": "code",
   "execution_count": 15,
   "id": "1403fe4d",
   "metadata": {},
   "outputs": [],
   "source": [
    "#initializing the model\n",
    "\n",
    "lr=LogisticRegression()\n"
   ]
  },
  {
   "cell_type": "code",
   "execution_count": 16,
   "id": "357aa27c",
   "metadata": {},
   "outputs": [
    {
     "data": {
      "text/plain": [
       "0.6700130378096479"
      ]
     },
     "execution_count": 16,
     "metadata": {},
     "output_type": "execute_result"
    }
   ],
   "source": [
    "# hyper parameter tuning the model\n",
    "\n",
    "parameters={\n",
    "          \"random_state\":[0,1,42]\n",
    "           }\n",
    "\n",
    "gslr=GridSearchCV(estimator=lr,param_grid=parameters)\n",
    "\n",
    "gslr.fit(X_train_smote,y_train_smote)\n",
    "\n",
    "gslr.best_score_"
   ]
  },
  {
   "cell_type": "code",
   "execution_count": 17,
   "id": "a0f68d42",
   "metadata": {},
   "outputs": [
    {
     "data": {
      "text/plain": [
       "{'random_state': 0}"
      ]
     },
     "execution_count": 17,
     "metadata": {},
     "output_type": "execute_result"
    }
   ],
   "source": [
    "gslr.best_params_ # finding the best parameters for this model"
   ]
  },
  {
   "cell_type": "code",
   "execution_count": 18,
   "id": "1cbbbce0",
   "metadata": {},
   "outputs": [],
   "source": [
    "lr1=LogisticRegression(random_state=0)"
   ]
  },
  {
   "cell_type": "code",
   "execution_count": 19,
   "id": "626d96ec",
   "metadata": {},
   "outputs": [
    {
     "data": {
      "text/plain": [
       "array([2, 1, 2, 2, 1, 2, 2, 1, 2, 2, 1, 2, 2, 2, 1, 2, 1, 2, 1, 2, 1, 1,\n",
       "       2, 2, 1, 2, 1, 2, 1, 2, 2, 1, 1, 1, 1, 2, 1, 1, 1, 2, 2, 1, 1, 2,\n",
       "       1, 1, 2, 1, 2, 1, 1, 1, 2, 2, 2, 2, 2, 2, 1, 2, 2, 2, 2, 2, 2, 2,\n",
       "       1, 1, 1, 1, 2, 1, 1, 1, 1, 2, 2, 1, 1, 1, 2, 2, 2, 1, 2, 2, 1, 1,\n",
       "       2, 1, 2, 1, 1, 2, 1, 2, 2, 2, 1, 2, 1, 2, 2, 1, 2, 2, 2, 1, 1, 2,\n",
       "       2, 1, 1, 1, 1, 1, 2, 2, 2, 1, 1, 1, 1, 2, 2, 2, 2, 1, 2, 1, 1, 1,\n",
       "       2, 1, 2, 2, 1, 2, 2, 2, 2, 1, 1, 1, 2, 2, 1, 1, 2, 1, 1, 1, 2, 1,\n",
       "       1, 1, 1, 1, 2, 1, 2, 1, 1, 1, 2, 1, 1, 2, 2, 1, 2, 1, 1, 1, 1, 1,\n",
       "       1, 2, 1, 1, 1, 1, 1, 1, 1, 2, 1, 1, 2, 1, 2, 2, 2, 2, 1, 1, 1, 1,\n",
       "       1, 1, 1, 2, 1, 2, 2, 2, 2, 1, 2, 2, 1, 2, 2, 2, 2, 1, 2, 2, 1, 2,\n",
       "       1, 1, 2, 2, 1, 2, 1, 2, 2, 1, 2, 1, 1, 2, 1, 2, 2, 1, 1, 2, 2, 2,\n",
       "       1, 2, 1, 1, 1, 1, 1, 1, 1, 2, 1, 2, 2, 1, 2, 2, 2, 2, 2, 1, 2, 2,\n",
       "       1, 2, 2, 2, 1, 2, 2, 2, 2, 1, 2, 1, 2, 1, 1, 2, 1, 1, 2, 2, 2, 1,\n",
       "       1, 1, 1, 2, 2, 1, 1, 2, 2, 1, 2, 2, 2, 1, 1, 2, 1, 2, 2, 1, 2, 1,\n",
       "       2, 2, 2, 2, 1, 2, 2, 1, 2, 2, 2, 1, 1, 1, 2, 1, 1, 1, 1, 2, 2, 1,\n",
       "       1, 2, 1, 2, 1, 1, 1, 1, 2, 2, 2, 2, 2, 1, 2, 1, 1, 1, 1, 2, 2, 2,\n",
       "       1, 1, 1, 1, 2, 2, 2, 1, 2, 2, 1, 1, 2, 2, 2, 1, 1, 2, 2, 2, 1, 2,\n",
       "       1, 1, 2, 2, 1, 2, 2, 1, 2, 1, 2, 1, 2, 1, 1, 2, 2, 1, 1, 1, 2, 2,\n",
       "       1, 2, 2, 2, 1, 2, 2, 1, 1, 1, 1, 1, 2, 2, 2, 2, 2, 2, 2, 1, 2, 2,\n",
       "       2, 2, 1, 2, 2, 2, 2, 2, 2, 2, 2, 2, 2, 2, 2, 2, 2, 2, 1, 2, 2, 2,\n",
       "       1, 2, 1, 2, 2, 2, 2, 2, 2, 2, 2, 2, 2, 2, 1, 1, 2, 2, 2, 2, 2, 2,\n",
       "       1, 1, 2, 2, 1, 2, 1, 2, 2, 2, 2, 2, 2, 2, 1, 2, 1, 2, 2, 2, 2, 2,\n",
       "       1, 1, 1, 2, 1, 2, 2, 2, 2, 1, 2, 2, 2, 1, 2, 2, 2, 2, 2, 2, 2, 2,\n",
       "       2, 2, 2, 2, 2, 2, 1, 2, 2, 2, 2, 2, 2, 2, 2, 1, 2, 2, 1, 2, 2, 2,\n",
       "       1, 2, 2, 2, 2, 2, 2, 2, 2, 2, 2, 2, 2, 2, 1, 2, 1, 2, 2, 2, 1, 2,\n",
       "       2, 2, 1, 2, 2, 2, 2, 2, 1, 2, 1, 2, 2, 2, 2, 2, 2, 1, 2, 2, 2, 2,\n",
       "       2, 2, 1, 2, 2, 2, 2, 2, 2, 2, 2, 2, 1, 1, 2, 2], dtype=int64)"
      ]
     },
     "execution_count": 19,
     "metadata": {},
     "output_type": "execute_result"
    }
   ],
   "source": [
    "#Training the model\n",
    "\n",
    "lr1.fit(X_train_smote,y_train_smote)\n",
    "lr1_train_predict=lr1.predict(X_train_smote)\n",
    "lr1_train_predict\n"
   ]
  },
  {
   "cell_type": "code",
   "execution_count": 20,
   "id": "e54f5fae",
   "metadata": {
    "scrolled": true
   },
   "outputs": [
    {
     "data": {
      "text/plain": [
       "array([1, 1, 2, 1, 1, 2, 1, 1, 2, 2, 2, 1, 2, 2, 2, 1, 1, 2, 1, 2, 1, 2,\n",
       "       2, 1, 1, 2, 2, 1, 2, 2, 2, 1, 2, 1, 1, 1, 1, 1, 1, 1, 1, 1, 2, 1,\n",
       "       1, 1, 2, 1, 2, 1, 2, 2, 1, 2, 2, 1, 2, 2, 1, 2, 1, 1, 2, 2, 1, 2,\n",
       "       1, 1, 2, 1, 2, 1, 1, 2, 1, 2, 2, 2, 2, 2, 1, 1, 1, 2, 2, 2, 2, 2,\n",
       "       1, 2, 1, 2, 1, 1, 2, 1, 1, 2, 2, 1, 1, 2, 2, 2, 1, 1, 2, 2, 2, 2,\n",
       "       2, 2, 1, 2, 2, 2, 1, 1, 2, 1, 2, 1, 1, 2, 1, 1, 1, 1, 2, 1, 1, 1,\n",
       "       1, 1, 2, 1, 2, 1, 2, 1, 2, 1, 1, 2, 2, 2, 2, 1, 1, 2, 2, 2, 1, 1,\n",
       "       1, 2, 1, 1, 2, 2, 2, 1, 2, 2, 2, 1, 1, 1, 2, 1, 2, 1, 1, 1, 2],\n",
       "      dtype=int64)"
      ]
     },
     "execution_count": 20,
     "metadata": {},
     "output_type": "execute_result"
    }
   ],
   "source": [
    "# Testing The model\n",
    "\n",
    "lr1_test_predict=lr1.predict(X_test)\n",
    "lr1_test_predict\n"
   ]
  },
  {
   "cell_type": "markdown",
   "id": "2cefadac",
   "metadata": {},
   "source": [
    "# 7.2. Decision Tree Classifier"
   ]
  },
  {
   "cell_type": "code",
   "execution_count": 21,
   "id": "30359fcf",
   "metadata": {},
   "outputs": [],
   "source": [
    "#initializing the model\n",
    "\n",
    "dt=DecisionTreeClassifier()"
   ]
  },
  {
   "cell_type": "code",
   "execution_count": 22,
   "id": "80818c39",
   "metadata": {},
   "outputs": [
    {
     "data": {
      "text/plain": [
       "0.7687382297551789"
      ]
     },
     "execution_count": 22,
     "metadata": {},
     "output_type": "execute_result"
    }
   ],
   "source": [
    "# hyper parameter tuning the model\n",
    "\n",
    "parameters={\n",
    "           \"criterion\":[\"gini\", \"entropy\", \"log_loss\"],\n",
    "           \"random_state\":[0,1,42]\n",
    "           }\n",
    "\n",
    "gsdt=GridSearchCV(estimator=dt,param_grid=parameters)\n",
    "\n",
    "gsdt.fit(X_train_smote,y_train_smote)\n",
    "\n",
    "gsdt.best_score_"
   ]
  },
  {
   "cell_type": "code",
   "execution_count": 23,
   "id": "0f1bc98c",
   "metadata": {},
   "outputs": [
    {
     "data": {
      "text/plain": [
       "{'criterion': 'entropy', 'random_state': 0}"
      ]
     },
     "execution_count": 23,
     "metadata": {},
     "output_type": "execute_result"
    }
   ],
   "source": [
    "gsdt.best_params_ # finding the best parameters for this model"
   ]
  },
  {
   "cell_type": "code",
   "execution_count": 24,
   "id": "29103325",
   "metadata": {},
   "outputs": [],
   "source": [
    "dt1=DecisionTreeClassifier(criterion='entropy',random_state=0)"
   ]
  },
  {
   "cell_type": "code",
   "execution_count": 25,
   "id": "4ef570a3",
   "metadata": {},
   "outputs": [
    {
     "data": {
      "text/plain": [
       "array([2, 1, 1, 1, 1, 1, 2, 1, 1, 1, 1, 1, 2, 1, 1, 1, 1, 1, 1, 1, 1, 1,\n",
       "       2, 2, 1, 2, 1, 1, 2, 1, 1, 1, 1, 1, 1, 1, 1, 1, 1, 2, 2, 1, 1, 2,\n",
       "       1, 1, 2, 1, 2, 1, 1, 1, 1, 2, 1, 1, 2, 1, 1, 1, 1, 1, 2, 2, 1, 2,\n",
       "       1, 1, 1, 1, 2, 1, 1, 1, 1, 1, 1, 1, 1, 1, 1, 1, 2, 1, 2, 1, 1, 1,\n",
       "       1, 2, 1, 1, 1, 1, 1, 2, 1, 1, 1, 1, 1, 1, 1, 1, 2, 2, 1, 1, 1, 1,\n",
       "       2, 1, 1, 1, 1, 1, 2, 1, 1, 1, 1, 1, 1, 1, 1, 2, 2, 1, 2, 1, 1, 1,\n",
       "       1, 1, 2, 2, 1, 1, 2, 2, 2, 1, 2, 2, 2, 1, 2, 1, 1, 1, 1, 1, 1, 1,\n",
       "       2, 2, 1, 1, 2, 1, 1, 1, 1, 1, 1, 1, 1, 1, 2, 1, 2, 1, 1, 1, 1, 1,\n",
       "       2, 1, 1, 2, 1, 1, 1, 1, 1, 2, 1, 1, 2, 1, 2, 1, 1, 1, 1, 2, 2, 2,\n",
       "       1, 1, 1, 1, 1, 1, 2, 1, 1, 2, 1, 2, 1, 2, 1, 1, 2, 1, 2, 1, 1, 2,\n",
       "       1, 1, 1, 2, 1, 2, 2, 2, 2, 1, 2, 1, 1, 1, 1, 1, 1, 1, 1, 2, 1, 2,\n",
       "       1, 2, 2, 1, 1, 2, 1, 1, 1, 1, 1, 2, 1, 1, 2, 1, 2, 1, 1, 1, 1, 2,\n",
       "       1, 2, 1, 1, 1, 1, 2, 1, 2, 1, 1, 1, 2, 1, 1, 2, 1, 1, 1, 2, 1, 1,\n",
       "       1, 1, 2, 1, 1, 1, 2, 1, 2, 1, 1, 2, 1, 1, 2, 2, 1, 1, 2, 1, 1, 1,\n",
       "       2, 1, 2, 2, 1, 2, 1, 2, 1, 1, 1, 2, 1, 1, 1, 1, 1, 1, 1, 1, 2, 1,\n",
       "       1, 1, 1, 2, 1, 1, 1, 2, 2, 1, 1, 1, 1, 1, 1, 1, 1, 1, 2, 2, 1, 1,\n",
       "       1, 2, 1, 1, 2, 1, 1, 1, 2, 1, 1, 2, 2, 1, 1, 1, 2, 1, 1, 1, 2, 1,\n",
       "       1, 1, 2, 1, 1, 2, 1, 1, 1, 1, 2, 1, 2, 1, 1, 1, 1, 2, 2, 1, 1, 1,\n",
       "       1, 2, 1, 1, 1, 2, 1, 1, 1, 2, 1, 1, 2, 2, 2, 2, 2, 2, 2, 2, 2, 2,\n",
       "       2, 2, 2, 2, 2, 2, 2, 2, 2, 2, 2, 2, 2, 2, 2, 2, 2, 2, 2, 2, 2, 2,\n",
       "       2, 2, 2, 2, 2, 2, 2, 2, 2, 2, 2, 2, 2, 2, 2, 2, 2, 2, 2, 2, 2, 2,\n",
       "       2, 2, 2, 2, 2, 2, 2, 2, 2, 2, 2, 2, 2, 2, 2, 2, 2, 2, 2, 2, 2, 2,\n",
       "       2, 2, 2, 2, 2, 2, 2, 2, 2, 2, 2, 2, 2, 2, 2, 2, 2, 2, 2, 2, 2, 2,\n",
       "       2, 2, 2, 2, 2, 2, 2, 2, 2, 2, 2, 2, 2, 2, 2, 2, 2, 2, 2, 2, 2, 2,\n",
       "       2, 2, 2, 2, 2, 2, 2, 2, 2, 2, 2, 2, 2, 2, 2, 2, 2, 2, 2, 2, 2, 2,\n",
       "       2, 2, 2, 2, 2, 2, 2, 2, 2, 2, 2, 2, 2, 2, 2, 2, 2, 2, 2, 2, 2, 2,\n",
       "       2, 2, 2, 2, 2, 2, 2, 2, 2, 2, 2, 2, 2, 2, 2, 2], dtype=int64)"
      ]
     },
     "execution_count": 25,
     "metadata": {},
     "output_type": "execute_result"
    }
   ],
   "source": [
    "#Training the model\n",
    "\n",
    "dt1.fit(X_train_smote,y_train_smote)\n",
    "dt1_train_predict=dt1.predict(X_train_smote)\n",
    "dt1_train_predict\n"
   ]
  },
  {
   "cell_type": "code",
   "execution_count": 26,
   "id": "18bed999",
   "metadata": {},
   "outputs": [
    {
     "data": {
      "text/plain": [
       "array([1, 1, 1, 1, 1, 1, 1, 1, 1, 2, 2, 1, 2, 1, 1, 1, 1, 1, 1, 2, 1, 1,\n",
       "       2, 1, 1, 1, 1, 2, 1, 2, 1, 2, 1, 1, 1, 1, 2, 1, 1, 1, 1, 1, 2, 2,\n",
       "       1, 1, 2, 1, 1, 2, 1, 2, 1, 2, 1, 1, 2, 1, 1, 2, 2, 1, 1, 2, 1, 2,\n",
       "       1, 1, 1, 2, 2, 2, 1, 1, 2, 2, 1, 1, 1, 1, 1, 1, 1, 2, 2, 1, 2, 2,\n",
       "       1, 1, 1, 2, 1, 1, 2, 1, 1, 1, 1, 1, 2, 2, 2, 2, 1, 1, 1, 1, 2, 1,\n",
       "       1, 2, 1, 2, 1, 2, 1, 1, 1, 1, 1, 1, 2, 2, 1, 1, 1, 1, 1, 1, 1, 2,\n",
       "       1, 1, 1, 1, 1, 2, 1, 1, 1, 1, 1, 2, 2, 1, 1, 2, 2, 1, 1, 1, 2, 1,\n",
       "       1, 2, 1, 2, 1, 1, 1, 2, 1, 1, 1, 1, 2, 1, 1, 2, 2, 2, 1, 1, 1],\n",
       "      dtype=int64)"
      ]
     },
     "execution_count": 26,
     "metadata": {},
     "output_type": "execute_result"
    }
   ],
   "source": [
    "# Testing The model\n",
    "\n",
    "dt1_test_predict=dt1.predict(X_test)\n",
    "dt1_test_predict\n"
   ]
  },
  {
   "cell_type": "markdown",
   "id": "108b240e",
   "metadata": {},
   "source": [
    "# 7.3. Random Forest Classifier"
   ]
  },
  {
   "cell_type": "code",
   "execution_count": 27,
   "id": "14b203fd",
   "metadata": {},
   "outputs": [],
   "source": [
    "#initializing the model\n",
    "\n",
    "rf=RandomForestClassifier()"
   ]
  },
  {
   "cell_type": "code",
   "execution_count": 28,
   "id": "7ceedce6",
   "metadata": {},
   "outputs": [
    {
     "data": {
      "text/plain": [
       "0.8248442706069824"
      ]
     },
     "execution_count": 28,
     "metadata": {},
     "output_type": "execute_result"
    }
   ],
   "source": [
    "# hyper parameter tuning the model\n",
    "\n",
    "parameters={\n",
    "           \"criterion\":[\"gini\", \"entropy\", \"log_loss\"],\n",
    "           \"random_state\":[0,1,42]\n",
    "           }\n",
    "\n",
    "gsrf=GridSearchCV(estimator=rf,param_grid=parameters)\n",
    "\n",
    "gsrf.fit(X_train_smote,y_train_smote)\n",
    "\n",
    "gsrf.best_score_"
   ]
  },
  {
   "cell_type": "code",
   "execution_count": 29,
   "id": "7fc006a5",
   "metadata": {},
   "outputs": [
    {
     "data": {
      "text/plain": [
       "{'criterion': 'entropy', 'random_state': 42}"
      ]
     },
     "execution_count": 29,
     "metadata": {},
     "output_type": "execute_result"
    }
   ],
   "source": [
    "gsrf.best_params_ # finding the best parameters for this model"
   ]
  },
  {
   "cell_type": "code",
   "execution_count": 30,
   "id": "630be8bf",
   "metadata": {},
   "outputs": [],
   "source": [
    "rf1=RandomForestClassifier(criterion='entropy',random_state=42)"
   ]
  },
  {
   "cell_type": "code",
   "execution_count": 31,
   "id": "814b4c7e",
   "metadata": {},
   "outputs": [
    {
     "data": {
      "text/plain": [
       "array([2, 1, 1, 1, 1, 1, 2, 1, 1, 1, 1, 1, 2, 1, 1, 1, 1, 1, 1, 1, 1, 1,\n",
       "       2, 2, 1, 2, 1, 1, 2, 1, 1, 1, 1, 1, 1, 1, 1, 1, 1, 2, 2, 1, 1, 2,\n",
       "       1, 1, 2, 1, 2, 1, 1, 1, 1, 2, 1, 1, 2, 1, 1, 1, 1, 1, 2, 2, 1, 2,\n",
       "       1, 1, 1, 1, 2, 1, 1, 1, 1, 1, 1, 1, 1, 1, 1, 1, 2, 1, 2, 1, 1, 1,\n",
       "       1, 2, 1, 1, 1, 1, 1, 2, 1, 1, 1, 1, 1, 1, 1, 1, 2, 2, 1, 1, 1, 1,\n",
       "       2, 1, 1, 1, 1, 1, 2, 1, 1, 1, 1, 1, 1, 1, 1, 2, 2, 1, 2, 1, 1, 1,\n",
       "       1, 1, 2, 2, 1, 1, 2, 2, 2, 1, 2, 2, 2, 1, 2, 1, 1, 1, 1, 1, 1, 1,\n",
       "       2, 2, 1, 1, 2, 1, 1, 1, 1, 1, 1, 1, 1, 1, 2, 1, 2, 1, 1, 1, 1, 1,\n",
       "       2, 1, 1, 2, 1, 1, 1, 1, 1, 2, 1, 1, 2, 1, 2, 1, 1, 1, 1, 2, 2, 2,\n",
       "       1, 1, 1, 1, 1, 1, 2, 1, 1, 2, 1, 2, 1, 2, 1, 1, 2, 1, 2, 1, 1, 2,\n",
       "       1, 1, 1, 2, 1, 2, 2, 2, 2, 1, 2, 1, 1, 1, 1, 1, 1, 1, 1, 2, 1, 2,\n",
       "       1, 2, 2, 1, 1, 2, 1, 1, 1, 1, 1, 2, 1, 1, 2, 1, 2, 1, 1, 1, 1, 2,\n",
       "       1, 2, 1, 1, 1, 1, 2, 1, 2, 1, 1, 1, 2, 1, 1, 2, 1, 1, 1, 2, 1, 1,\n",
       "       1, 1, 2, 1, 1, 1, 2, 1, 2, 1, 1, 2, 1, 1, 2, 2, 1, 1, 2, 1, 1, 1,\n",
       "       2, 1, 2, 2, 1, 2, 1, 2, 1, 1, 1, 2, 1, 1, 1, 1, 1, 1, 1, 1, 2, 1,\n",
       "       1, 1, 1, 2, 1, 1, 1, 2, 2, 1, 1, 1, 1, 1, 1, 1, 1, 1, 2, 2, 1, 1,\n",
       "       1, 2, 1, 1, 2, 1, 1, 1, 2, 1, 1, 2, 2, 1, 1, 1, 2, 1, 1, 1, 2, 1,\n",
       "       1, 1, 2, 1, 1, 2, 1, 1, 1, 1, 2, 1, 2, 1, 1, 1, 1, 2, 2, 1, 1, 1,\n",
       "       1, 2, 1, 1, 1, 2, 1, 1, 1, 2, 1, 1, 2, 2, 2, 2, 2, 2, 2, 2, 2, 2,\n",
       "       2, 2, 2, 2, 2, 2, 2, 2, 2, 2, 2, 2, 2, 2, 2, 2, 2, 2, 2, 2, 2, 2,\n",
       "       2, 2, 2, 2, 2, 2, 2, 2, 2, 2, 2, 2, 2, 2, 2, 2, 2, 2, 2, 2, 2, 2,\n",
       "       2, 2, 2, 2, 2, 2, 2, 2, 2, 2, 2, 2, 2, 2, 2, 2, 2, 2, 2, 2, 2, 2,\n",
       "       2, 2, 2, 2, 2, 2, 2, 2, 2, 2, 2, 2, 2, 2, 2, 2, 2, 2, 2, 2, 2, 2,\n",
       "       2, 2, 2, 2, 2, 2, 2, 2, 2, 2, 2, 2, 2, 2, 2, 2, 2, 2, 2, 2, 2, 2,\n",
       "       2, 2, 2, 2, 2, 2, 2, 2, 2, 2, 2, 2, 2, 2, 2, 2, 2, 2, 2, 2, 2, 2,\n",
       "       2, 2, 2, 2, 2, 2, 2, 2, 2, 2, 2, 2, 2, 2, 2, 2, 2, 2, 2, 2, 2, 2,\n",
       "       2, 2, 2, 2, 2, 2, 2, 2, 2, 2, 2, 2, 2, 2, 2, 2], dtype=int64)"
      ]
     },
     "execution_count": 31,
     "metadata": {},
     "output_type": "execute_result"
    }
   ],
   "source": [
    "#Training the model\n",
    "\n",
    "rf1.fit(X_train_smote,y_train_smote)\n",
    "rf1_train_predict=rf1.predict(X_train_smote)\n",
    "rf1_train_predict"
   ]
  },
  {
   "cell_type": "code",
   "execution_count": 32,
   "id": "3363cced",
   "metadata": {},
   "outputs": [
    {
     "data": {
      "text/plain": [
       "array([1, 1, 1, 1, 1, 2, 1, 1, 1, 2, 2, 1, 1, 2, 1, 1, 1, 2, 1, 1, 1, 1,\n",
       "       1, 1, 1, 2, 1, 1, 1, 1, 1, 1, 2, 1, 1, 1, 1, 1, 1, 1, 1, 1, 2, 2,\n",
       "       1, 1, 2, 1, 1, 2, 1, 2, 1, 2, 1, 1, 2, 1, 1, 2, 1, 1, 1, 2, 1, 2,\n",
       "       1, 1, 1, 1, 2, 1, 1, 1, 1, 2, 1, 2, 2, 1, 1, 1, 1, 2, 2, 1, 2, 1,\n",
       "       1, 1, 1, 1, 1, 1, 2, 1, 1, 1, 1, 1, 1, 1, 2, 2, 1, 1, 1, 1, 2, 1,\n",
       "       2, 2, 1, 2, 1, 2, 1, 2, 1, 1, 2, 1, 2, 2, 1, 1, 1, 1, 1, 1, 1, 2,\n",
       "       1, 1, 2, 1, 2, 1, 1, 1, 1, 1, 1, 2, 1, 2, 1, 1, 1, 1, 1, 1, 1, 1,\n",
       "       1, 2, 1, 1, 2, 1, 1, 1, 1, 1, 1, 1, 1, 1, 2, 1, 1, 1, 1, 1, 1],\n",
       "      dtype=int64)"
      ]
     },
     "execution_count": 32,
     "metadata": {},
     "output_type": "execute_result"
    }
   ],
   "source": [
    "# Testing The model\n",
    "\n",
    "rf1_test_predict=rf1.predict(X_test)\n",
    "rf1_test_predict\n"
   ]
  },
  {
   "cell_type": "markdown",
   "id": "deff8e8d",
   "metadata": {},
   "source": [
    "# 7.4 K Nearest Neighbors Classifier"
   ]
  },
  {
   "cell_type": "code",
   "execution_count": 33,
   "id": "ec391104",
   "metadata": {},
   "outputs": [],
   "source": [
    "#initializing the model\n",
    "\n",
    "knn=KNeighborsClassifier()"
   ]
  },
  {
   "cell_type": "code",
   "execution_count": 34,
   "id": "0210bca8",
   "metadata": {},
   "outputs": [
    {
     "data": {
      "text/plain": [
       "0.6888019701579023"
      ]
     },
     "execution_count": 34,
     "metadata": {},
     "output_type": "execute_result"
    }
   ],
   "source": [
    "# hyper parameter tuning the model\n",
    "\n",
    "parameters={\n",
    "           \"n_neighbors\":[5,7,9]\n",
    "           }\n",
    "\n",
    "gsknn=GridSearchCV(estimator=knn,param_grid=parameters)\n",
    "\n",
    "gsknn.fit(X_train_smote,y_train_smote)\n",
    "\n",
    "gsknn.best_score_"
   ]
  },
  {
   "cell_type": "code",
   "execution_count": 35,
   "id": "7d8871f1",
   "metadata": {},
   "outputs": [
    {
     "data": {
      "text/plain": [
       "{'n_neighbors': 5}"
      ]
     },
     "execution_count": 35,
     "metadata": {},
     "output_type": "execute_result"
    }
   ],
   "source": [
    "gsknn.best_params_ # finding the best parameters for this model"
   ]
  },
  {
   "cell_type": "code",
   "execution_count": 36,
   "id": "183a3508",
   "metadata": {},
   "outputs": [],
   "source": [
    "knn1=KNeighborsClassifier(n_neighbors=5)"
   ]
  },
  {
   "cell_type": "code",
   "execution_count": 37,
   "id": "756388d0",
   "metadata": {},
   "outputs": [
    {
     "data": {
      "text/plain": [
       "array([2, 1, 2, 2, 2, 1, 2, 1, 2, 1, 1, 1, 2, 1, 1, 2, 1, 2, 2, 2, 1, 2,\n",
       "       2, 2, 1, 2, 1, 1, 2, 1, 2, 1, 2, 1, 1, 2, 1, 1, 1, 2, 2, 1, 1, 2,\n",
       "       1, 1, 2, 1, 2, 1, 1, 1, 2, 1, 2, 1, 2, 1, 1, 2, 1, 1, 2, 2, 1, 1,\n",
       "       2, 2, 1, 1, 2, 2, 1, 1, 1, 2, 1, 1, 1, 1, 2, 2, 2, 2, 2, 1, 1, 1,\n",
       "       1, 2, 1, 2, 1, 2, 1, 2, 1, 1, 1, 1, 1, 1, 2, 1, 1, 2, 1, 1, 1, 1,\n",
       "       2, 1, 1, 1, 1, 1, 2, 1, 1, 1, 1, 1, 1, 1, 2, 2, 2, 1, 2, 1, 1, 2,\n",
       "       1, 1, 2, 2, 1, 2, 2, 2, 2, 1, 2, 2, 2, 1, 2, 1, 1, 1, 1, 2, 1, 1,\n",
       "       2, 2, 1, 1, 2, 1, 1, 1, 2, 1, 2, 1, 1, 1, 2, 1, 2, 1, 1, 1, 1, 1,\n",
       "       2, 1, 1, 2, 1, 1, 2, 1, 1, 2, 1, 1, 2, 1, 2, 2, 1, 1, 1, 2, 2, 2,\n",
       "       1, 1, 1, 2, 1, 2, 2, 2, 1, 2, 1, 2, 1, 2, 2, 1, 2, 1, 2, 1, 1, 2,\n",
       "       2, 1, 2, 2, 1, 2, 2, 2, 2, 2, 1, 1, 1, 1, 1, 1, 2, 1, 1, 2, 2, 2,\n",
       "       2, 2, 2, 1, 2, 2, 1, 1, 1, 1, 1, 1, 1, 1, 2, 2, 2, 2, 2, 1, 2, 2,\n",
       "       1, 2, 2, 1, 1, 2, 2, 1, 2, 1, 1, 1, 2, 2, 1, 2, 2, 1, 2, 1, 1, 1,\n",
       "       2, 1, 2, 2, 2, 1, 2, 2, 2, 1, 1, 1, 2, 2, 2, 2, 1, 1, 2, 1, 2, 1,\n",
       "       2, 2, 2, 2, 1, 2, 1, 2, 1, 1, 2, 2, 1, 1, 1, 1, 2, 1, 2, 2, 1, 2,\n",
       "       2, 2, 1, 2, 1, 1, 1, 2, 2, 2, 1, 2, 1, 1, 2, 1, 1, 1, 2, 2, 1, 1,\n",
       "       2, 2, 1, 2, 2, 2, 1, 1, 2, 2, 1, 2, 2, 1, 2, 1, 2, 1, 1, 1, 2, 1,\n",
       "       2, 1, 2, 2, 2, 2, 2, 1, 2, 1, 2, 2, 2, 2, 1, 2, 1, 2, 1, 2, 2, 1,\n",
       "       2, 2, 2, 2, 1, 2, 1, 2, 1, 2, 1, 1, 2, 2, 2, 2, 2, 2, 2, 2, 2, 2,\n",
       "       2, 2, 1, 2, 2, 2, 2, 2, 2, 2, 2, 2, 2, 2, 2, 2, 2, 2, 2, 1, 2, 2,\n",
       "       2, 2, 2, 2, 2, 2, 2, 2, 2, 2, 2, 2, 2, 2, 2, 2, 2, 2, 2, 2, 2, 2,\n",
       "       2, 2, 2, 2, 1, 2, 2, 2, 2, 2, 2, 2, 2, 2, 2, 2, 2, 2, 2, 2, 2, 2,\n",
       "       2, 2, 2, 2, 2, 2, 2, 2, 2, 2, 2, 2, 2, 2, 2, 2, 2, 2, 2, 2, 2, 2,\n",
       "       2, 2, 2, 2, 2, 2, 2, 2, 2, 2, 2, 2, 2, 2, 2, 2, 2, 2, 2, 2, 2, 2,\n",
       "       2, 2, 2, 2, 2, 2, 2, 2, 2, 2, 2, 2, 2, 2, 1, 2, 2, 2, 2, 2, 2, 2,\n",
       "       2, 2, 2, 2, 2, 2, 2, 2, 2, 2, 2, 2, 2, 2, 2, 2, 2, 2, 2, 2, 2, 2,\n",
       "       2, 2, 2, 2, 2, 2, 2, 2, 2, 2, 2, 2, 2, 2, 2, 2], dtype=int64)"
      ]
     },
     "execution_count": 37,
     "metadata": {},
     "output_type": "execute_result"
    }
   ],
   "source": [
    "#Training the model\n",
    "\n",
    "knn1.fit(X_train_smote,y_train_smote)\n",
    "knn1_train_predict=knn1.predict(X_train_smote)\n",
    "knn1_train_predict"
   ]
  },
  {
   "cell_type": "code",
   "execution_count": 38,
   "id": "02648cdc",
   "metadata": {},
   "outputs": [
    {
     "data": {
      "text/plain": [
       "array([1, 1, 1, 1, 1, 1, 1, 2, 1, 2, 1, 2, 1, 1, 1, 1, 1, 2, 1, 1, 1, 1,\n",
       "       2, 1, 1, 2, 2, 1, 1, 2, 2, 1, 1, 1, 1, 1, 1, 1, 1, 1, 1, 1, 2, 2,\n",
       "       2, 1, 1, 1, 2, 1, 1, 2, 2, 2, 1, 2, 2, 2, 1, 2, 1, 1, 1, 2, 1, 2,\n",
       "       1, 2, 1, 2, 1, 2, 1, 2, 1, 2, 1, 2, 2, 2, 2, 1, 1, 2, 2, 2, 2, 2,\n",
       "       1, 1, 1, 2, 1, 1, 2, 1, 2, 1, 2, 1, 2, 1, 2, 2, 1, 1, 2, 1, 1, 1,\n",
       "       2, 2, 2, 1, 2, 2, 1, 2, 2, 1, 1, 1, 2, 1, 2, 1, 1, 1, 1, 1, 1, 2,\n",
       "       1, 1, 2, 1, 2, 1, 2, 1, 1, 1, 1, 2, 1, 2, 2, 1, 1, 1, 2, 2, 2, 1,\n",
       "       2, 2, 1, 2, 2, 1, 1, 1, 1, 1, 2, 1, 1, 1, 2, 1, 2, 2, 1, 2, 2],\n",
       "      dtype=int64)"
      ]
     },
     "execution_count": 38,
     "metadata": {},
     "output_type": "execute_result"
    }
   ],
   "source": [
    "# Testing The model\n",
    "\n",
    "knn1_test_predict=knn1.predict(X_test)\n",
    "knn1_test_predict"
   ]
  },
  {
   "cell_type": "markdown",
   "id": "fc546011",
   "metadata": {},
   "source": [
    "# 7.5. Naive Bayes Algorithm"
   ]
  },
  {
   "cell_type": "code",
   "execution_count": 39,
   "id": "4af18162",
   "metadata": {},
   "outputs": [],
   "source": [
    "#initializing the model\n",
    "\n",
    "nb1=GaussianNB()"
   ]
  },
  {
   "cell_type": "code",
   "execution_count": 40,
   "id": "39aa2e6d",
   "metadata": {},
   "outputs": [
    {
     "data": {
      "text/plain": [
       "array([1, 1, 2, 2, 2, 2, 2, 1, 2, 2, 1, 2, 2, 2, 1, 2, 2, 2, 1, 2, 2, 2,\n",
       "       2, 2, 2, 2, 2, 2, 2, 2, 2, 1, 1, 1, 2, 2, 2, 1, 1, 2, 2, 1, 2, 2,\n",
       "       1, 1, 2, 1, 2, 1, 1, 2, 2, 2, 2, 2, 2, 2, 1, 2, 2, 2, 2, 2, 2, 2,\n",
       "       2, 2, 1, 2, 2, 2, 2, 1, 1, 2, 2, 2, 1, 2, 1, 2, 2, 1, 2, 2, 1, 2,\n",
       "       2, 2, 2, 2, 1, 2, 1, 2, 2, 2, 1, 2, 1, 2, 1, 1, 2, 2, 2, 1, 1, 2,\n",
       "       2, 2, 1, 1, 1, 2, 2, 2, 2, 1, 1, 1, 1, 1, 2, 1, 2, 2, 1, 2, 1, 2,\n",
       "       2, 1, 2, 2, 1, 2, 2, 2, 2, 1, 2, 2, 2, 2, 2, 1, 2, 1, 2, 1, 2, 2,\n",
       "       2, 1, 2, 1, 2, 2, 2, 1, 1, 1, 2, 2, 1, 2, 2, 2, 2, 2, 1, 1, 1, 2,\n",
       "       2, 2, 2, 2, 1, 1, 2, 1, 1, 2, 1, 1, 2, 2, 2, 2, 2, 2, 2, 2, 2, 2,\n",
       "       1, 1, 1, 2, 1, 2, 2, 2, 2, 2, 2, 2, 2, 2, 2, 1, 2, 1, 2, 2, 2, 2,\n",
       "       2, 1, 2, 2, 2, 2, 2, 2, 2, 2, 2, 2, 1, 2, 1, 2, 2, 1, 1, 2, 2, 2,\n",
       "       2, 2, 1, 1, 2, 2, 1, 1, 1, 1, 1, 2, 2, 1, 2, 2, 2, 2, 1, 2, 2, 2,\n",
       "       1, 2, 2, 2, 1, 2, 2, 2, 2, 1, 2, 1, 2, 2, 1, 2, 2, 1, 2, 2, 2, 1,\n",
       "       2, 1, 2, 2, 2, 1, 2, 2, 2, 2, 1, 2, 2, 1, 2, 2, 1, 2, 2, 2, 2, 1,\n",
       "       2, 2, 2, 2, 2, 2, 2, 2, 2, 2, 2, 2, 1, 1, 2, 2, 2, 1, 2, 2, 2, 2,\n",
       "       1, 2, 2, 2, 1, 1, 2, 2, 2, 2, 2, 2, 2, 1, 2, 2, 1, 1, 2, 2, 2, 2,\n",
       "       2, 2, 1, 2, 2, 2, 2, 1, 2, 2, 1, 2, 2, 2, 1, 1, 1, 2, 2, 2, 2, 2,\n",
       "       2, 1, 2, 2, 2, 2, 2, 2, 2, 1, 2, 2, 2, 2, 1, 1, 2, 2, 1, 2, 2, 2,\n",
       "       2, 2, 2, 2, 2, 2, 1, 2, 2, 2, 2, 1, 2, 2, 2, 2, 2, 2, 2, 2, 2, 2,\n",
       "       2, 2, 1, 2, 2, 2, 2, 2, 2, 2, 2, 2, 2, 2, 2, 2, 2, 2, 2, 2, 2, 2,\n",
       "       2, 2, 2, 2, 2, 2, 2, 2, 2, 2, 2, 2, 2, 2, 1, 1, 2, 2, 2, 2, 2, 2,\n",
       "       2, 2, 2, 2, 2, 1, 2, 2, 2, 2, 2, 2, 2, 2, 2, 2, 2, 2, 2, 2, 2, 2,\n",
       "       2, 2, 2, 2, 2, 2, 2, 2, 2, 1, 2, 2, 2, 2, 2, 2, 2, 2, 2, 2, 1, 2,\n",
       "       2, 2, 2, 2, 2, 2, 2, 2, 2, 2, 2, 2, 2, 2, 2, 2, 2, 2, 1, 2, 2, 2,\n",
       "       2, 2, 2, 2, 2, 2, 2, 2, 2, 2, 2, 2, 2, 2, 1, 2, 2, 2, 2, 2, 2, 2,\n",
       "       2, 2, 2, 2, 2, 2, 2, 2, 2, 2, 2, 2, 1, 2, 2, 2, 2, 2, 2, 2, 2, 2,\n",
       "       2, 2, 2, 2, 2, 2, 2, 2, 2, 2, 2, 2, 2, 2, 2, 2], dtype=int64)"
      ]
     },
     "execution_count": 40,
     "metadata": {},
     "output_type": "execute_result"
    }
   ],
   "source": [
    "#Training the model\n",
    "\n",
    "nb1.fit(X_train_smote,y_train_smote)\n",
    "nb1_train_predict=nb1.predict(X_train_smote)\n",
    "nb1_train_predict"
   ]
  },
  {
   "cell_type": "code",
   "execution_count": 41,
   "id": "b2513523",
   "metadata": {},
   "outputs": [
    {
     "data": {
      "text/plain": [
       "array([1, 1, 2, 1, 2, 2, 1, 2, 1, 2, 2, 2, 2, 2, 2, 2, 1, 2, 2, 2, 1, 2,\n",
       "       2, 2, 1, 2, 1, 2, 2, 2, 2, 1, 2, 1, 1, 1, 1, 1, 1, 2, 1, 2, 2, 2,\n",
       "       1, 1, 2, 1, 2, 2, 2, 2, 1, 2, 2, 2, 2, 2, 2, 2, 2, 1, 2, 2, 2, 2,\n",
       "       2, 2, 2, 2, 2, 2, 1, 2, 2, 2, 2, 2, 2, 2, 2, 1, 1, 2, 2, 2, 2, 2,\n",
       "       1, 2, 1, 2, 1, 1, 2, 2, 2, 2, 2, 1, 2, 2, 2, 2, 1, 1, 2, 2, 2, 2,\n",
       "       2, 2, 2, 2, 2, 2, 2, 2, 2, 2, 2, 1, 2, 2, 1, 1, 1, 1, 2, 2, 1, 2,\n",
       "       2, 1, 2, 2, 2, 2, 2, 2, 2, 2, 1, 2, 2, 2, 2, 2, 2, 2, 1, 2, 2, 1,\n",
       "       2, 2, 2, 1, 2, 2, 2, 2, 2, 2, 2, 1, 2, 2, 2, 2, 1, 2, 1, 1, 2],\n",
       "      dtype=int64)"
      ]
     },
     "execution_count": 41,
     "metadata": {},
     "output_type": "execute_result"
    }
   ],
   "source": [
    "# Testing The model\n",
    "\n",
    "nb1_test_predict=nb1.predict(X_test)\n",
    "nb1_test_predict"
   ]
  },
  {
   "cell_type": "markdown",
   "id": "c4d08461",
   "metadata": {},
   "source": [
    "# 7.6. Support Vector Machine"
   ]
  },
  {
   "cell_type": "code",
   "execution_count": 42,
   "id": "32602605",
   "metadata": {},
   "outputs": [],
   "source": [
    "#initializing the model\n",
    "\n",
    "svc=SVC()"
   ]
  },
  {
   "cell_type": "code",
   "execution_count": 43,
   "id": "4ba5fa05",
   "metadata": {},
   "outputs": [
    {
     "data": {
      "text/plain": [
       "0.6479067072287411"
      ]
     },
     "execution_count": 43,
     "metadata": {},
     "output_type": "execute_result"
    }
   ],
   "source": [
    "# hyper parameter tuning the model\n",
    "\n",
    "parameters={\n",
    "           \"kernel\":['linear','rbf'],\n",
    "           \"random_state\":[0,1,42]\n",
    "           }\n",
    "\n",
    "gssvc=GridSearchCV(estimator=svc,param_grid=parameters)\n",
    "\n",
    "gssvc.fit(X_train_smote,y_train_smote)\n",
    "\n",
    "gssvc.best_score_"
   ]
  },
  {
   "cell_type": "code",
   "execution_count": 44,
   "id": "f3a20afb",
   "metadata": {},
   "outputs": [
    {
     "data": {
      "text/plain": [
       "{'kernel': 'rbf', 'random_state': 0}"
      ]
     },
     "execution_count": 44,
     "metadata": {},
     "output_type": "execute_result"
    }
   ],
   "source": [
    "gssvc.best_params_ # finding the best parameters for this model"
   ]
  },
  {
   "cell_type": "code",
   "execution_count": 45,
   "id": "33285d84",
   "metadata": {},
   "outputs": [],
   "source": [
    "svc1=SVC(kernel='rbf', random_state= 0)"
   ]
  },
  {
   "cell_type": "code",
   "execution_count": 46,
   "id": "02dfbff3",
   "metadata": {},
   "outputs": [
    {
     "data": {
      "text/plain": [
       "array([2, 1, 2, 2, 1, 2, 2, 1, 2, 2, 1, 2, 2, 2, 1, 2, 1, 2, 1, 2, 1, 2,\n",
       "       2, 2, 2, 2, 2, 2, 1, 2, 2, 1, 1, 1, 1, 2, 1, 1, 1, 2, 2, 1, 1, 2,\n",
       "       1, 1, 2, 1, 2, 1, 2, 2, 2, 2, 2, 2, 2, 2, 1, 2, 2, 2, 2, 2, 2, 2,\n",
       "       2, 2, 1, 2, 2, 1, 2, 1, 1, 2, 2, 1, 1, 1, 2, 2, 2, 2, 2, 2, 1, 1,\n",
       "       2, 1, 2, 2, 1, 1, 1, 2, 2, 2, 1, 2, 1, 2, 2, 1, 2, 2, 2, 1, 1, 2,\n",
       "       2, 1, 1, 1, 1, 1, 2, 2, 1, 1, 1, 1, 1, 2, 2, 2, 2, 2, 2, 1, 1, 1,\n",
       "       2, 1, 2, 2, 1, 2, 2, 2, 2, 2, 2, 1, 2, 2, 2, 1, 2, 1, 1, 1, 2, 1,\n",
       "       2, 1, 1, 1, 2, 1, 2, 1, 1, 1, 2, 2, 1, 2, 2, 2, 2, 2, 1, 1, 1, 2,\n",
       "       1, 2, 2, 2, 1, 1, 2, 1, 1, 2, 1, 1, 2, 2, 2, 2, 2, 2, 1, 2, 1, 2,\n",
       "       1, 1, 1, 2, 1, 2, 2, 2, 2, 1, 2, 2, 2, 2, 2, 2, 2, 1, 2, 2, 1, 2,\n",
       "       2, 1, 2, 2, 1, 2, 1, 2, 2, 2, 2, 1, 1, 2, 1, 2, 2, 1, 1, 2, 2, 2,\n",
       "       2, 2, 2, 1, 2, 2, 1, 1, 1, 2, 1, 2, 2, 1, 2, 2, 2, 2, 2, 1, 2, 2,\n",
       "       1, 2, 2, 2, 1, 2, 2, 2, 2, 1, 2, 1, 2, 1, 1, 2, 2, 1, 2, 2, 2, 1,\n",
       "       2, 1, 2, 2, 2, 1, 2, 2, 2, 2, 2, 2, 2, 1, 2, 2, 1, 2, 2, 1, 2, 1,\n",
       "       2, 2, 2, 2, 2, 2, 1, 1, 2, 2, 2, 2, 1, 1, 2, 2, 1, 1, 2, 2, 2, 1,\n",
       "       1, 2, 1, 2, 1, 1, 2, 2, 2, 2, 2, 2, 2, 1, 2, 2, 1, 1, 2, 2, 2, 2,\n",
       "       1, 2, 1, 2, 2, 2, 2, 1, 2, 2, 1, 2, 2, 2, 2, 1, 1, 2, 2, 2, 2, 2,\n",
       "       2, 1, 2, 2, 1, 2, 2, 1, 2, 1, 2, 2, 2, 2, 1, 2, 2, 2, 1, 2, 2, 2,\n",
       "       2, 2, 2, 2, 2, 2, 2, 2, 2, 2, 2, 1, 2, 2, 2, 2, 2, 2, 2, 2, 2, 2,\n",
       "       2, 2, 1, 2, 2, 2, 2, 2, 2, 2, 2, 2, 2, 2, 2, 2, 2, 2, 2, 2, 2, 2,\n",
       "       2, 2, 2, 2, 2, 2, 2, 2, 2, 2, 2, 2, 2, 2, 1, 1, 2, 2, 2, 2, 2, 2,\n",
       "       2, 2, 2, 2, 2, 2, 2, 2, 2, 2, 2, 2, 2, 2, 2, 2, 1, 2, 2, 2, 2, 2,\n",
       "       2, 2, 2, 2, 2, 2, 2, 2, 2, 1, 2, 2, 2, 2, 2, 2, 2, 2, 2, 2, 2, 2,\n",
       "       2, 2, 2, 2, 2, 2, 1, 2, 2, 2, 2, 2, 2, 2, 2, 1, 2, 2, 2, 2, 2, 2,\n",
       "       2, 2, 2, 2, 2, 2, 2, 2, 2, 2, 2, 2, 2, 2, 1, 2, 1, 2, 2, 2, 2, 2,\n",
       "       2, 2, 2, 2, 2, 2, 2, 2, 2, 2, 2, 2, 2, 2, 2, 2, 2, 1, 2, 2, 2, 2,\n",
       "       2, 2, 1, 2, 2, 2, 2, 2, 2, 2, 2, 2, 2, 2, 2, 2], dtype=int64)"
      ]
     },
     "execution_count": 46,
     "metadata": {},
     "output_type": "execute_result"
    }
   ],
   "source": [
    "#Training the model\n",
    "\n",
    "svc1.fit(X_train_smote,y_train_smote)\n",
    "svc1_train_predict=svc1.predict(X_train_smote)\n",
    "svc1_train_predict"
   ]
  },
  {
   "cell_type": "code",
   "execution_count": 47,
   "id": "caa9c859",
   "metadata": {},
   "outputs": [
    {
     "data": {
      "text/plain": [
       "array([1, 1, 2, 1, 2, 2, 1, 2, 2, 2, 2, 2, 2, 2, 2, 1, 1, 2, 1, 2, 1, 2,\n",
       "       2, 1, 1, 2, 2, 2, 2, 2, 2, 1, 2, 1, 1, 1, 1, 1, 1, 1, 1, 1, 2, 1,\n",
       "       1, 1, 2, 1, 2, 2, 2, 2, 1, 2, 2, 2, 2, 2, 1, 2, 1, 1, 2, 2, 1, 2,\n",
       "       1, 1, 2, 2, 2, 2, 1, 2, 2, 2, 2, 2, 2, 2, 2, 1, 1, 2, 2, 2, 2, 2,\n",
       "       1, 2, 1, 2, 1, 1, 2, 2, 1, 2, 2, 1, 2, 2, 2, 2, 1, 1, 2, 2, 2, 2,\n",
       "       2, 2, 2, 2, 2, 2, 2, 2, 2, 2, 2, 1, 1, 2, 1, 1, 1, 1, 2, 1, 1, 2,\n",
       "       2, 1, 2, 2, 2, 1, 2, 2, 2, 2, 1, 2, 2, 2, 2, 1, 2, 2, 2, 2, 2, 1,\n",
       "       1, 2, 1, 1, 2, 2, 2, 1, 2, 2, 2, 1, 1, 1, 2, 1, 2, 1, 1, 2, 2],\n",
       "      dtype=int64)"
      ]
     },
     "execution_count": 47,
     "metadata": {},
     "output_type": "execute_result"
    }
   ],
   "source": [
    "# Testing The model\n",
    "\n",
    "svc1_test_predict=svc1.predict(X_test)\n",
    "svc1_test_predict"
   ]
  },
  {
   "cell_type": "markdown",
   "id": "d24d5955",
   "metadata": {},
   "source": [
    "# 8. Evaluating the performance of the models"
   ]
  },
  {
   "cell_type": "code",
   "execution_count": 48,
   "id": "a54cfed2",
   "metadata": {},
   "outputs": [],
   "source": [
    "# The models are evaluated using\n",
    "# 1. accuracy score\n",
    "# 2. confusion matrix\n",
    "# 3. classification report#"
   ]
  },
  {
   "cell_type": "markdown",
   "id": "5c00f31e",
   "metadata": {},
   "source": [
    "# 8.1. Accuracy score"
   ]
  },
  {
   "cell_type": "code",
   "execution_count": 49,
   "id": "174af0b5",
   "metadata": {},
   "outputs": [
    {
     "name": "stdout",
     "output_type": "stream",
     "text": [
      "1. logistic regression Algorithm\n",
      "\n",
      "On Training data:  0.6887755102040817\n",
      "On Testing Data:  0.6857142857142857\n"
     ]
    }
   ],
   "source": [
    "# logistic regression Algorithm\n",
    "\n",
    "print(\"1. logistic regression Algorithm\\n\")\n",
    "# On Training data\n",
    "print(\"On Training data: \",accuracy_score(y_train_smote,lr1_train_predict))\n",
    "\n",
    "# On Testing Data\n",
    "print(\"On Testing Data: \",accuracy_score(y_test,lr1_test_predict))"
   ]
  },
  {
   "cell_type": "code",
   "execution_count": 50,
   "id": "f05e91f0",
   "metadata": {},
   "outputs": [
    {
     "name": "stdout",
     "output_type": "stream",
     "text": [
      "2. Decision Tree Classifier\n",
      "\n",
      "On Training data:  1.0\n",
      "On Testing Data:  0.6\n"
     ]
    }
   ],
   "source": [
    "# Decision Tree Classifier\n",
    "\n",
    "print(\"2. Decision Tree Classifier\\n\")\n",
    "# On Training data\n",
    "print(\"On Training data: \",accuracy_score(y_train_smote,dt1_train_predict))\n",
    "\n",
    "# On Testing Data\n",
    "print(\"On Testing Data: \",accuracy_score(y_test,dt1_test_predict))"
   ]
  },
  {
   "cell_type": "code",
   "execution_count": 51,
   "id": "8362b5f0",
   "metadata": {},
   "outputs": [
    {
     "name": "stdout",
     "output_type": "stream",
     "text": [
      "3. Random Forest Classifier\n",
      "\n",
      "On Training data:  1.0\n",
      "On Testing Data:  0.6971428571428572\n"
     ]
    }
   ],
   "source": [
    "# Random Forest Classifier\n",
    "\n",
    "print(\"3. Random Forest Classifier\\n\")\n",
    "# On Training data\n",
    "print(\"On Training data: \",accuracy_score(y_train_smote,rf1_train_predict))\n",
    "\n",
    "# On Testing Data\n",
    "print(\"On Testing Data: \",accuracy_score(y_test,rf1_test_predict))"
   ]
  },
  {
   "cell_type": "code",
   "execution_count": 52,
   "id": "a6b3641d",
   "metadata": {},
   "outputs": [
    {
     "name": "stdout",
     "output_type": "stream",
     "text": [
      "4. K Nearest Neighbors\n",
      "\n",
      "On Training data:  0.8248299319727891\n",
      "On Testing Data:  0.6228571428571429\n"
     ]
    }
   ],
   "source": [
    "# K Nearest Neighbors\n",
    "\n",
    "print(\"4. K Nearest Neighbors\\n\")\n",
    "# On Training data\n",
    "print(\"On Training data: \",accuracy_score(y_train_smote,knn1_train_predict))\n",
    "\n",
    "# On Testing Data\n",
    "print(\"On Testing Data: \",accuracy_score(y_test,knn1_test_predict))"
   ]
  },
  {
   "cell_type": "code",
   "execution_count": 53,
   "id": "478ed997",
   "metadata": {},
   "outputs": [
    {
     "name": "stdout",
     "output_type": "stream",
     "text": [
      "5. Naive Bayes\n",
      "\n",
      "On Training data:  0.6649659863945578\n",
      "On Testing Data:  0.5714285714285714\n"
     ]
    }
   ],
   "source": [
    "# Naive Bayes\n",
    "\n",
    "print(\"5. Naive Bayes\\n\")\n",
    "# On Training data\n",
    "print(\"On Training data: \",accuracy_score(y_train_smote,nb1_train_predict))\n",
    "\n",
    "# On Testing Data\n",
    "print(\"On Testing Data: \",accuracy_score(y_test,nb1_test_predict))"
   ]
  },
  {
   "cell_type": "code",
   "execution_count": 54,
   "id": "9e75a0c6",
   "metadata": {},
   "outputs": [
    {
     "name": "stdout",
     "output_type": "stream",
     "text": [
      "6. Support Vector Machine\n",
      "\n",
      "On Training data:  0.6904761904761905\n",
      "On Testing Data:  0.6285714285714286\n"
     ]
    }
   ],
   "source": [
    "# Support Vector Machine\n",
    "\n",
    "print(\"6. Support Vector Machine\\n\")\n",
    "# On Training data\n",
    "print(\"On Training data: \",accuracy_score(y_train_smote,svc1_train_predict))\n",
    "\n",
    "# On Testing Data\n",
    "print(\"On Testing Data: \",accuracy_score(y_test,svc1_test_predict))"
   ]
  },
  {
   "cell_type": "markdown",
   "id": "757a1d11",
   "metadata": {},
   "source": [
    "# 8.2. confusion matrix"
   ]
  },
  {
   "cell_type": "code",
   "execution_count": 55,
   "id": "ef55851d",
   "metadata": {},
   "outputs": [
    {
     "name": "stdout",
     "output_type": "stream",
     "text": [
      "1. logistic regression Algorithm\n"
     ]
    },
    {
     "data": {
      "text/plain": [
       "array([[78, 44],\n",
       "       [11, 42]], dtype=int64)"
      ]
     },
     "execution_count": 55,
     "metadata": {},
     "output_type": "execute_result"
    }
   ],
   "source": [
    "# logistic regression Algorithm\n",
    "\n",
    "print(\"1. logistic regression Algorithm\")\n",
    "confusion_matrix(y_test,lr1_test_predict)"
   ]
  },
  {
   "cell_type": "code",
   "execution_count": 56,
   "id": "8d13970b",
   "metadata": {},
   "outputs": [
    {
     "name": "stdout",
     "output_type": "stream",
     "text": [
      "2. Decision Tree Classifier\n"
     ]
    },
    {
     "data": {
      "text/plain": [
       "array([[86, 36],\n",
       "       [34, 19]], dtype=int64)"
      ]
     },
     "execution_count": 56,
     "metadata": {},
     "output_type": "execute_result"
    }
   ],
   "source": [
    "# Decision Tree Classifier\n",
    "\n",
    "print(\"2. Decision Tree Classifier\")\n",
    "confusion_matrix(y_test,dt1_test_predict)"
   ]
  },
  {
   "cell_type": "code",
   "execution_count": 57,
   "id": "68a0514c",
   "metadata": {},
   "outputs": [
    {
     "name": "stdout",
     "output_type": "stream",
     "text": [
      "3. Random Forest Classifier\n"
     ]
    },
    {
     "data": {
      "text/plain": [
       "array([[100,  22],\n",
       "       [ 31,  22]], dtype=int64)"
      ]
     },
     "execution_count": 57,
     "metadata": {},
     "output_type": "execute_result"
    }
   ],
   "source": [
    "# Random Forest Classifier\n",
    "\n",
    "print(\"3. Random Forest Classifier\")\n",
    "confusion_matrix(y_test,rf1_test_predict)"
   ]
  },
  {
   "cell_type": "code",
   "execution_count": 58,
   "id": "d92a3997",
   "metadata": {},
   "outputs": [
    {
     "name": "stdout",
     "output_type": "stream",
     "text": [
      "4. K Nearest Neighbors\n"
     ]
    },
    {
     "data": {
      "text/plain": [
       "array([[79, 43],\n",
       "       [23, 30]], dtype=int64)"
      ]
     },
     "execution_count": 58,
     "metadata": {},
     "output_type": "execute_result"
    }
   ],
   "source": [
    "# K Nearest Neighbors\n",
    "\n",
    "print(\"4. K Nearest Neighbors\")\n",
    "confusion_matrix(y_test,knn1_test_predict)"
   ]
  },
  {
   "cell_type": "code",
   "execution_count": 59,
   "id": "3f95d7fe",
   "metadata": {},
   "outputs": [
    {
     "name": "stdout",
     "output_type": "stream",
     "text": [
      "5. Naive Bayes\n"
     ]
    },
    {
     "data": {
      "text/plain": [
       "array([[47, 75],\n",
       "       [ 0, 53]], dtype=int64)"
      ]
     },
     "execution_count": 59,
     "metadata": {},
     "output_type": "execute_result"
    }
   ],
   "source": [
    "# Naive Bayes\n",
    "\n",
    "print(\"5. Naive Bayes\")\n",
    "confusion_matrix(y_test,nb1_test_predict)"
   ]
  },
  {
   "cell_type": "code",
   "execution_count": 60,
   "id": "a7315811",
   "metadata": {},
   "outputs": [
    {
     "name": "stdout",
     "output_type": "stream",
     "text": [
      "6. Support Vector Machine\n"
     ]
    },
    {
     "data": {
      "text/plain": [
       "array([[61, 61],\n",
       "       [ 4, 49]], dtype=int64)"
      ]
     },
     "execution_count": 60,
     "metadata": {},
     "output_type": "execute_result"
    }
   ],
   "source": [
    "# Support Vector Machine\n",
    "\n",
    "print(\"6. Support Vector Machine\")\n",
    "confusion_matrix(y_test,svc1_test_predict)"
   ]
  },
  {
   "cell_type": "markdown",
   "id": "0fb516fe",
   "metadata": {},
   "source": [
    "# 8.3. Classification Report"
   ]
  },
  {
   "cell_type": "code",
   "execution_count": 61,
   "id": "1092930c",
   "metadata": {},
   "outputs": [
    {
     "name": "stdout",
     "output_type": "stream",
     "text": [
      "1. logistic regression Algorithm\n",
      "              precision    recall  f1-score   support\n",
      "\n",
      "           1       0.88      0.64      0.74       122\n",
      "           2       0.49      0.79      0.60        53\n",
      "\n",
      "    accuracy                           0.69       175\n",
      "   macro avg       0.68      0.72      0.67       175\n",
      "weighted avg       0.76      0.69      0.70       175\n",
      "\n"
     ]
    }
   ],
   "source": [
    "# logistic regression Algorithm\n",
    "\n",
    "print(\"1. logistic regression Algorithm\")\n",
    "print(classification_report(y_test,lr1_test_predict))"
   ]
  },
  {
   "cell_type": "code",
   "execution_count": 62,
   "id": "6de45230",
   "metadata": {},
   "outputs": [
    {
     "name": "stdout",
     "output_type": "stream",
     "text": [
      "2. Decision Tree Classifier\n",
      "              precision    recall  f1-score   support\n",
      "\n",
      "           1       0.72      0.70      0.71       122\n",
      "           2       0.35      0.36      0.35        53\n",
      "\n",
      "    accuracy                           0.60       175\n",
      "   macro avg       0.53      0.53      0.53       175\n",
      "weighted avg       0.60      0.60      0.60       175\n",
      "\n"
     ]
    }
   ],
   "source": [
    "# Decision Tree Classifier\n",
    "\n",
    "print(\"2. Decision Tree Classifier\")\n",
    "print(classification_report(y_test,dt1_test_predict))"
   ]
  },
  {
   "cell_type": "code",
   "execution_count": 63,
   "id": "4baa8d86",
   "metadata": {},
   "outputs": [
    {
     "name": "stdout",
     "output_type": "stream",
     "text": [
      "3.  Random Forest Classifier\n",
      "              precision    recall  f1-score   support\n",
      "\n",
      "           1       0.76      0.82      0.79       122\n",
      "           2       0.50      0.42      0.45        53\n",
      "\n",
      "    accuracy                           0.70       175\n",
      "   macro avg       0.63      0.62      0.62       175\n",
      "weighted avg       0.68      0.70      0.69       175\n",
      "\n"
     ]
    }
   ],
   "source": [
    "# Random Forest Classifier\n",
    "\n",
    "print(\"3.  Random Forest Classifier\")\n",
    "print(classification_report(y_test,rf1_test_predict))"
   ]
  },
  {
   "cell_type": "code",
   "execution_count": 64,
   "id": "64291f02",
   "metadata": {},
   "outputs": [
    {
     "name": "stdout",
     "output_type": "stream",
     "text": [
      "4. K Nearest Neighbors\n",
      "              precision    recall  f1-score   support\n",
      "\n",
      "           1       0.77      0.65      0.71       122\n",
      "           2       0.41      0.57      0.48        53\n",
      "\n",
      "    accuracy                           0.62       175\n",
      "   macro avg       0.59      0.61      0.59       175\n",
      "weighted avg       0.66      0.62      0.64       175\n",
      "\n"
     ]
    }
   ],
   "source": [
    "# K Nearest Neighbors\n",
    "\n",
    "print(\"4. K Nearest Neighbors\")\n",
    "print(classification_report(y_test,knn1_test_predict))"
   ]
  },
  {
   "cell_type": "code",
   "execution_count": 65,
   "id": "134a3304",
   "metadata": {},
   "outputs": [
    {
     "name": "stdout",
     "output_type": "stream",
     "text": [
      "5. Naive Bayes\n",
      "              precision    recall  f1-score   support\n",
      "\n",
      "           1       1.00      0.39      0.56       122\n",
      "           2       0.41      1.00      0.59        53\n",
      "\n",
      "    accuracy                           0.57       175\n",
      "   macro avg       0.71      0.69      0.57       175\n",
      "weighted avg       0.82      0.57      0.57       175\n",
      "\n"
     ]
    }
   ],
   "source": [
    "# Naive Bayes\n",
    "\n",
    "print(\"5. Naive Bayes\")\n",
    "print(classification_report(y_test,nb1_test_predict))"
   ]
  },
  {
   "cell_type": "code",
   "execution_count": 66,
   "id": "123c05db",
   "metadata": {},
   "outputs": [
    {
     "name": "stdout",
     "output_type": "stream",
     "text": [
      "6. Support Vector Machine\n",
      "              precision    recall  f1-score   support\n",
      "\n",
      "           1       0.94      0.50      0.65       122\n",
      "           2       0.45      0.92      0.60        53\n",
      "\n",
      "    accuracy                           0.63       175\n",
      "   macro avg       0.69      0.71      0.63       175\n",
      "weighted avg       0.79      0.63      0.64       175\n",
      "\n"
     ]
    }
   ],
   "source": [
    "# Support Vector Machine\n",
    "\n",
    "print(\"6. Support Vector Machine\")\n",
    "print(classification_report(y_test,svc1_test_predict))"
   ]
  },
  {
   "cell_type": "markdown",
   "id": "b61fef5d",
   "metadata": {},
   "source": [
    "# 9. Selecting and saving the model"
   ]
  },
  {
   "cell_type": "code",
   "execution_count": 67,
   "id": "118af2ff",
   "metadata": {},
   "outputs": [
    {
     "data": {
      "text/plain": [
       "['selected_model1.pkl']"
      ]
     },
     "execution_count": 67,
     "metadata": {},
     "output_type": "execute_result"
    }
   ],
   "source": [
    "# From the performance of each model \"Naive Bayes\" gives the best performance\n",
    "# so this algorithm is used to predict the result for our model\n",
    "\n",
    "# Saving the model\n",
    "\n",
    "from joblib import Parallel, delayed\n",
    "import joblib\n",
    "\n",
    "# save the model as a pickle in a file\n",
    "joblib.dump(nb1, 'selected_model1.pkl')"
   ]
  }
 ],
 "metadata": {
  "kernelspec": {
   "display_name": "Python 3 (ipykernel)",
   "language": "python",
   "name": "python3"
  },
  "language_info": {
   "codemirror_mode": {
    "name": "ipython",
    "version": 3
   },
   "file_extension": ".py",
   "mimetype": "text/x-python",
   "name": "python",
   "nbconvert_exporter": "python",
   "pygments_lexer": "ipython3",
   "version": "3.9.5"
  }
 },
 "nbformat": 4,
 "nbformat_minor": 5
}
